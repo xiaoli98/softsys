{
 "cells": [
  {
   "cell_type": "markdown",
   "metadata": {},
   "source": [
    "Questo notebook fornisce una panoramica completa degli strumenti e dei concetti essenziali per lo sviluppo moderno in Python, in particolare per la data science e il machine learning."
   ]
  },
  {
   "cell_type": "markdown",
   "metadata": {},
   "source": [
    "## 1. Ambienti Virtuali Python"
   ]
  },
  {
   "cell_type": "markdown",
   "metadata": {},
   "source": [
    "### Cos'è un Ambiente Virtuale?\n",
    "Un ambiente virtuale Python è un ambiente isolato per i progetti Python. Ciò significa che ogni progetto può avere le proprie dipendenze, indipendentemente dalle dipendenze di ogni altro progetto."
   ]
  },
  {
   "cell_type": "markdown",
   "metadata": {},
   "source": [
    "### Perché Usare un Ambiente Virtuale?\n",
    "- **Gestione delle Dipendenze**: Previene i conflitti tra le dipendenze dei progetti. Ad esempio, il Progetto A potrebbe aver bisogno della versione 1.0 di una libreria, mentre il Progetto B ha bisogno della versione 2.0.\n",
    "- **Riproducibilità**: Rende più facile replicare l'ambiente del progetto su un'altra macchina.\n",
    "- **Python di Sistema**: Mantiene la tua installazione globale di Python pulita e libera da pacchetti specifici del progetto."
   ]
  },
  {
   "cell_type": "markdown",
   "metadata": {},
   "source": [
    "### Creare un Ambiente Virtuale con `venv`\n",
    "Python include un modulo nativo chiamato `venv` per creare ambienti virtuali.\n",
    "\n",
    "In pratica è una cartella che contiene i moduli per il workspace del progetto.\n",
    "Generalmente la cartella per il virtual environment viene indicato anch'esso venv/ o .venv/"
   ]
  },
  {
   "cell_type": "markdown",
   "metadata": {},
   "source": [
    "### Attivare un Ambiente Virtuale"
   ]
  },
  {
   "cell_type": "code",
   "execution_count": null,
   "metadata": {},
   "outputs": [],
   "source": [
    "# Su Windows\n",
    "# !venv\\Scripts\\activate\n",
    "\n",
    "# Su macOS e Linux\n",
    "# !source venv/bin/activate"
   ]
  },
  {
   "cell_type": "markdown",
   "metadata": {},
   "source": [
    "### Usare un Ambiente Virtuale in un Jupyter Notebook\n",
    "Per utilizzare un ambiente virtuale all'interno di un Jupyter Notebook, è necessario installare il pacchetto `ipykernel` e creare un nuovo kernel per il tuo ambiente.\n",
    "\n",
    "Vediamo in seguito come si possono installare pacchetti con il gestore di pacchetti `uv`"
   ]
  },
  {
   "cell_type": "markdown",
   "metadata": {},
   "source": [
    "## 2. `uv`: Il Gestore di Pacchetti Python"
   ]
  },
  {
   "cell_type": "markdown",
   "metadata": {},
   "source": [
    "`uv` ([link](https://docs.astral.sh/uv/getting-started/)) è un gestore di pacchetti e progetti Python estremamente veloce. Mira a essere un unico strumento per sostituire `pip`, `pip-tools`, `virtualenv` e altro. È progettato per essere un sostituto diretto dei comandi comuni di `pip`, `pip-tools` e `virtualenv`."
   ]
  },
  {
   "cell_type": "markdown",
   "metadata": {},
   "source": [
    "### Caratteristiche Principali di `uv`:\n",
    "- **Velocità**: È da 10 a 100 volte più veloce di `pip`.\n",
    "- **Tutto-in-uno**: Gestisce pacchetti, ambienti virtuali e dipendenze di progetto.\n",
    "- **Efficienza dello Spazio su Disco**: Utilizza una cache globale per la deduplicazione delle dipendenze."
   ]
  },
  {
   "cell_type": "markdown",
   "metadata": {},
   "source": [
    "### Installare `uv`"
   ]
  },
  {
   "cell_type": "code",
   "execution_count": null,
   "metadata": {},
   "outputs": [],
   "source": [
    "# Su macOS e Linux\n",
    "# !curl -LsSf https://astral.sh/uv/install.sh | sh\n",
    "\n",
    "# Su Windows (in PowerShell)\n",
    "# powershell -ExecutionPolicy ByPass -c \"irm https://astral.sh/uv/install.ps1 | iex\""
   ]
  },
  {
   "cell_type": "markdown",
   "metadata": {},
   "source": [
    "### Inizializzare il workspace con `uv`"
   ]
  },
  {
   "cell_type": "code",
   "execution_count": null,
   "metadata": {},
   "outputs": [],
   "source": [
    "# Crea e attiva un ambiente virtuale\n",
    "!uv init\n",
    "!uv run main.py"
   ]
  },
  {
   "cell_type": "markdown",
   "metadata": {},
   "source": [
    "il comando `uv init` inizializza il workspace, definendo alcuni file, tra cui:\n",
    "- .gitignore, per excludere file temporanei o cache generati da python da git\n",
    "- .python-version, che indica la versione di python (molto comodo per cambiare versione di python)\n",
    "- main.py, eventuale entry point \n",
    "- pyproject.toml, definisce le dipendenze dei progetti, e una serie info sul progetto\n",
    "- README.md, solito README dei progetti"
   ]
  },
  {
   "cell_type": "markdown",
   "metadata": {},
   "source": [
    "il comando `uv run main.py` fa una serie di cose:\n",
    "- inizializza il virtualenv come `.venv/` (se non esiste gia')\n",
    "- attiva il virtualenv\n",
    "- controlla che la versioen dei moduli installati siano coerenti con quelli indicati nel .toml, ed eventualmente aggiorna la versione dei moduli\n",
    "- runna il codice `main.py` sotto il virtualenv\n"
   ]
  },
  {
   "cell_type": "markdown",
   "metadata": {},
   "source": [
    "### Per installare pacchetti con `uv`"
   ]
  },
  {
   "cell_type": "code",
   "execution_count": null,
   "metadata": {},
   "outputs": [],
   "source": [
    "# Installa un pacchetto (es. torch), e aggiorna le dipendenze nel pyproject.toml\n",
    "!uv add torch, numpy, matplotlib"
   ]
  },
  {
   "cell_type": "markdown",
   "metadata": {},
   "source": [
    "Oppure modificare direttamente pyproject.toml aggiungendo i moduli che servono in `dependencies`, ed"
   ]
  },
  {
   "cell_type": "code",
   "execution_count": 32,
   "metadata": {},
   "outputs": [],
   "source": [
    "# per aggiornare le dipendenze del progetto (solo se hai modificato manualmente il pyproject.toml)\n",
    "# !uv sync"
   ]
  },
  {
   "cell_type": "markdown",
   "metadata": {},
   "source": [
    "## 3. Concetti Fondamentali sui Tensori"
   ]
  },
  {
   "cell_type": "markdown",
   "metadata": {},
   "source": [
    "### Cos'è un Tensore?\n",
    "Un tensore è un array multidimensionale di dati numerici. È una generalizzazione di vettori e matrici a un numero arbitrario di dimensioni. I tensori sono la struttura dati fondamentale in PyTorch e in altri framework di deep learning."
   ]
  },
  {
   "cell_type": "markdown",
   "metadata": {},
   "source": [
    "#### Terminologia dei Tensori:\n",
    "- **Scalare**: Un tensore a 0 dimensioni (un singolo numero).\n",
    "- **Vettore**: Un tensore a 1 dimensione.\n",
    "- **Matrice**: Un tensore a 2 dimensioni.\n",
    "- **Tensore 3D**: Un array a 3 dimensioni."
   ]
  },
  {
   "cell_type": "markdown",
   "metadata": {},
   "source": [
    "### Creare Tensori con PyTorch"
   ]
  },
  {
   "cell_type": "code",
   "execution_count": 1,
   "metadata": {},
   "outputs": [],
   "source": [
    "import torch"
   ]
  },
  {
   "cell_type": "code",
   "execution_count": 2,
   "metadata": {},
   "outputs": [
    {
     "name": "stdout",
     "output_type": "stream",
     "text": [
      "Tensore da dati:\n",
      " tensor([[1, 2],\n",
      "        [3, 4]])\n"
     ]
    }
   ],
   "source": [
    "# Crea un tensore da una lista Python\n",
    "data = [[1, 2], [3, 4]]\n",
    "x_data = torch.tensor(data)\n",
    "print(f\"Tensore da dati:\\n {x_data}\")"
   ]
  },
  {
   "cell_type": "code",
   "execution_count": 3,
   "metadata": {},
   "outputs": [
    {
     "name": "stdout",
     "output_type": "stream",
     "text": [
      "Tensore di uni:\n",
      " tensor([[1., 1., 1.],\n",
      "        [1., 1., 1.]])\n"
     ]
    }
   ],
   "source": [
    "# Crea un tensore di una forma specifica riempito di uni\n",
    "ones_tensor = torch.ones((2, 3)) # una tupla che definisce la forma\n",
    "print(f\"Tensore di uni:\\n {ones_tensor}\")"
   ]
  },
  {
   "cell_type": "code",
   "execution_count": 4,
   "metadata": {},
   "outputs": [
    {
     "name": "stdout",
     "output_type": "stream",
     "text": [
      "Tensore Casuale:\n",
      " tensor([[0.2636, 0.1148, 0.8734],\n",
      "        [0.0462, 0.6495, 0.7877]])\n"
     ]
    }
   ],
   "source": [
    "# Crea un tensore di una forma specifica con valori casuali\n",
    "random_tensor = torch.rand((2, 3))\n",
    "print(f\"Tensore Casuale:\\n {random_tensor}\")"
   ]
  },
  {
   "cell_type": "markdown",
   "metadata": {},
   "source": [
    "### Attributi dei Tensori"
   ]
  },
  {
   "cell_type": "code",
   "execution_count": 5,
   "metadata": {},
   "outputs": [
    {
     "name": "stdout",
     "output_type": "stream",
     "text": [
      "Forma del tensore: torch.Size([3, 4])\n",
      "Tipo di dati del tensore: torch.float32\n",
      "Dispositivo su cui è memorizzato il tensore: cpu\n"
     ]
    }
   ],
   "source": [
    "tensor = torch.rand(3, 4)\n",
    "\n",
    "print(f\"Forma del tensore: {tensor.shape}\")\n",
    "print(f\"Tipo di dati del tensore: {tensor.dtype}\")\n",
    "print(f\"Dispositivo su cui è memorizzato il tensore: {tensor.device}\")"
   ]
  },
  {
   "cell_type": "markdown",
   "metadata": {},
   "source": [
    "### Operazioni sui Tensori"
   ]
  },
  {
   "cell_type": "code",
   "execution_count": 6,
   "metadata": {},
   "outputs": [
    {
     "name": "stdout",
     "output_type": "stream",
     "text": [
      "tensor([[1., 0., 1., 1.],\n",
      "        [1., 0., 1., 1.],\n",
      "        [1., 0., 1., 1.],\n",
      "        [1., 0., 1., 1.]])\n"
     ]
    }
   ],
   "source": [
    "# Indicizzazione e slicing standard, simili a numpy\n",
    "tensor = torch.ones(4, 4)\n",
    "tensor[:, 1] = 0\n",
    "print(tensor)"
   ]
  },
  {
   "cell_type": "code",
   "execution_count": 7,
   "metadata": {},
   "outputs": [
    {
     "name": "stdout",
     "output_type": "stream",
     "text": [
      "tensor([[1., 0., 1., 1., 1., 0., 1., 1., 1., 0., 1., 1.],\n",
      "        [1., 0., 1., 1., 1., 0., 1., 1., 1., 0., 1., 1.],\n",
      "        [1., 0., 1., 1., 1., 0., 1., 1., 1., 0., 1., 1.],\n",
      "        [1., 0., 1., 1., 1., 0., 1., 1., 1., 0., 1., 1.]])\n"
     ]
    }
   ],
   "source": [
    "# Unire i tensori\n",
    "t1 = torch.cat([tensor, tensor, tensor], dim=1)\n",
    "print(t1)"
   ]
  },
  {
   "cell_type": "code",
   "execution_count": 8,
   "metadata": {},
   "outputs": [
    {
     "name": "stdout",
     "output_type": "stream",
     "text": [
      "tensor.mul(tensor): \n",
      " tensor([[1., 0., 1., 1.],\n",
      "        [1., 0., 1., 1.],\n",
      "        [1., 0., 1., 1.],\n",
      "        [1., 0., 1., 1.]])\n",
      "tensor * tensor: \n",
      " tensor([[1., 0., 1., 1.],\n",
      "        [1., 0., 1., 1.],\n",
      "        [1., 0., 1., 1.],\n",
      "        [1., 0., 1., 1.]])\n"
     ]
    }
   ],
   "source": [
    "# Moltiplicazione elemento per elemento\n",
    "print(f\"tensor.mul(tensor): \\n {tensor.mul(tensor)}\")\n",
    "# Sintassi alternativa\n",
    "print(f\"tensor * tensor: \\n {tensor * tensor}\")"
   ]
  },
  {
   "cell_type": "code",
   "execution_count": 9,
   "metadata": {},
   "outputs": [
    {
     "name": "stdout",
     "output_type": "stream",
     "text": [
      "tensor.matmul(tensor.T): \n",
      " tensor([[3., 3., 3., 3.],\n",
      "        [3., 3., 3., 3.],\n",
      "        [3., 3., 3., 3.],\n",
      "        [3., 3., 3., 3.]])\n",
      "tensor @ tensor.T: \n",
      " tensor([[3., 3., 3., 3.],\n",
      "        [3., 3., 3., 3.],\n",
      "        [3., 3., 3., 3.],\n",
      "        [3., 3., 3., 3.]])\n"
     ]
    }
   ],
   "source": [
    "# Moltiplicazione tra matrici\n",
    "print(f\"tensor.matmul(tensor.T): \\n {tensor.matmul(tensor.T)}\")\n",
    "# Sintassi alternativa\n",
    "print(f\"tensor @ tensor.T: \\n {tensor @ tensor.T}\")"
   ]
  },
  {
   "cell_type": "markdown",
   "metadata": {},
   "source": [
    "## 4. Introduzione a PyTorch"
   ]
  },
  {
   "cell_type": "markdown",
   "metadata": {},
   "source": [
    "PyTorch è un framework open-source di machine learning che permette di costruire e addestrare reti neurali in modo efficiente. È noto per la sua flessibilità e il suo grafo computazionale dinamico."
   ]
  },
  {
   "cell_type": "markdown",
   "metadata": {},
   "source": [
    "### Caratteristiche Principali di PyTorch:\n",
    "- **Grafo Computazionale Dinamico**: PyTorch costruisce il grafo computazionale al volo (on-the-fly), il che lo rende più intuitivo per la costruzione e il debug dei modelli.\n",
    "- **Accelerazione GPU**: Si integra perfettamente con CUDA per calcoli più veloci su GPU.\n",
    "- **Librerie Estese**: Fornisce una vasta gamma di modelli e dataset pre-costruiti."
   ]
  },
  {
   "cell_type": "markdown",
   "metadata": {},
   "source": [
    "### Differenziazione Automatica con `torch.autograd`"
   ]
  },
  {
   "cell_type": "markdown",
   "metadata": {},
   "source": [
    "Una caratteristica chiave di PyTorch è `torch.autograd`, il suo motore di differenziazione automatica. Tiene traccia di tutte le operazioni sui tensori e può calcolare automaticamente i gradienti."
   ]
  },
  {
   "cell_type": "code",
   "execution_count": 10,
   "metadata": {},
   "outputs": [],
   "source": [
    "x = torch.ones(5)  # tensore di input\n",
    "y = torch.zeros(3)  # output atteso\n",
    "w = torch.randn(5, 3, requires_grad=True)\n",
    "b = torch.randn(3, requires_grad=True)\n",
    "z = torch.matmul(x, w)+b\n",
    "loss = torch.nn.functional.binary_cross_entropy_with_logits(z, y)"
   ]
  },
  {
   "cell_type": "code",
   "execution_count": 11,
   "metadata": {},
   "outputs": [
    {
     "name": "stdout",
     "output_type": "stream",
     "text": [
      "Funzione gradiente per z = <AddBackward0 object at 0x71fcb7babd30>\n",
      "Funzione gradiente per la loss = <BinaryCrossEntropyWithLogitsBackward0 object at 0x71fe44f87190>\n"
     ]
    }
   ],
   "source": [
    "print(f\"Funzione gradiente per z = {z.grad_fn}\")\n",
    "print(f\"Funzione gradiente per la loss = {loss.grad_fn}\")"
   ]
  },
  {
   "cell_type": "code",
   "execution_count": 12,
   "metadata": {},
   "outputs": [
    {
     "name": "stdout",
     "output_type": "stream",
     "text": [
      "tensor([[0.3315, 0.1441, 0.2783],\n",
      "        [0.3315, 0.1441, 0.2783],\n",
      "        [0.3315, 0.1441, 0.2783],\n",
      "        [0.3315, 0.1441, 0.2783],\n",
      "        [0.3315, 0.1441, 0.2783]])\n",
      "tensor([0.3315, 0.1441, 0.2783])\n"
     ]
    }
   ],
   "source": [
    "loss.backward()\n",
    "print(w.grad)\n",
    "print(b.grad)"
   ]
  },
  {
   "cell_type": "markdown",
   "metadata": {},
   "source": [
    "### Costruire una Semplice Rete Neurale in PyTorch"
   ]
  },
  {
   "cell_type": "code",
   "execution_count": 13,
   "metadata": {},
   "outputs": [],
   "source": [
    "from torch import nn\n",
    "\n",
    "class NeuralNetwork(nn.Module):\n",
    "    def __init__(self):\n",
    "        super().__init__()\n",
    "        self.flatten = nn.Flatten()\n",
    "        self.net = nn.Sequential(\n",
    "            nn.Linear(8, 16),\n",
    "            nn.ReLU(),\n",
    "            nn.Linear(16, 1),\n",
    "        )\n",
    "\n",
    "    def forward(self, x):\n",
    "        x = self.flatten(x)\n",
    "        logits = self.net(x)\n",
    "        return logits"
   ]
  },
  {
   "cell_type": "markdown",
   "metadata": {},
   "source": [
    "### e una loss function, per esempio vogliamo fare classificazione binaria, e quindi usiamo la BinaryCrossEntropy"
   ]
  },
  {
   "cell_type": "code",
   "execution_count": 19,
   "metadata": {},
   "outputs": [],
   "source": [
    "loss_fn = nn.BCEWithLogitsLoss()"
   ]
  },
  {
   "cell_type": "code",
   "execution_count": 39,
   "metadata": {},
   "outputs": [
    {
     "name": "stdout",
     "output_type": "stream",
     "text": [
      "NeuralNetwork(\n",
      "  (flatten): Flatten(start_dim=1, end_dim=-1)\n",
      "  (net): Sequential(\n",
      "    (0): Linear(in_features=8, out_features=16, bias=True)\n",
      "    (1): ReLU()\n",
      "    (2): Linear(in_features=16, out_features=1, bias=True)\n",
      "  )\n",
      ")\n"
     ]
    }
   ],
   "source": [
    "# istanziamo il modello\n",
    "model = NeuralNetwork()\n",
    "print(model)"
   ]
  },
  {
   "cell_type": "markdown",
   "metadata": {},
   "source": [
    "### Generiamo un po dei dati randomici per testare il training"
   ]
  },
  {
   "cell_type": "code",
   "execution_count": 37,
   "metadata": {},
   "outputs": [],
   "source": [
    "num_dati = 1000\n",
    "input_dim = 8\n",
    "data = torch.rand(num_dati, input_dim)\n",
    "label = torch.randint(0, 2, (num_dati, 1)).float()"
   ]
  },
  {
   "cell_type": "markdown",
   "metadata": {},
   "source": [
    "### usiamo il dataloader per caricare i dati"
   ]
  },
  {
   "cell_type": "code",
   "execution_count": 17,
   "metadata": {},
   "outputs": [],
   "source": [
    "from torch.utils.data import DataLoader, TensorDataset"
   ]
  },
  {
   "cell_type": "markdown",
   "metadata": {},
   "source": [
    "Sui dataloader si possono fare delle operazioni di preprocessing dei dati, e.g. trasformazioni, normalizzazione etc.\n"
   ]
  },
  {
   "cell_type": "code",
   "execution_count": null,
   "metadata": {},
   "outputs": [],
   "source": [
    "dataset = TensorDataset(data, label)\n",
    "dataloader = DataLoader(\n",
    "    dataset=dataset,\n",
    "    batch_size=32,\n",
    "    shuffle=True,\n",
    "    # num_workers=2,\n",
    "    # sampler=None,\n",
    "    # pin_memory=True,\n",
    "    # collate_fn=None, # to generate batches with custom behavior\n",
    "    )"
   ]
  },
  {
   "cell_type": "markdown",
   "metadata": {},
   "source": [
    "### Per allenare un modello abbiamo bisogno di un ottimizzatore, che esegua l'algoritmo di ottimizzazione per noi\n",
    "\n",
    "Le piu' usate sono SGD, RMSProp e Adam"
   ]
  },
  {
   "cell_type": "code",
   "execution_count": 40,
   "metadata": {},
   "outputs": [],
   "source": [
    "from torch.optim import Adam\n",
    "\n",
    "optimizer = Adam(model.parameters(), lr=0.001)\n",
    "# altri parametri come betas, weight_decay, etc."
   ]
  },
  {
   "cell_type": "markdown",
   "metadata": {},
   "source": [
    "### Training loop di un neural network"
   ]
  },
  {
   "cell_type": "code",
   "execution_count": 27,
   "metadata": {},
   "outputs": [],
   "source": [
    "# per salvare risultati usiamo numpy per i dati\n",
    "import numpy as np\n",
    "# usiamo matplotlib per le figure\n",
    "import matplotlib.pyplot as plt"
   ]
  },
  {
   "cell_type": "code",
   "execution_count": 48,
   "metadata": {},
   "outputs": [
    {
     "name": "stdout",
     "output_type": "stream",
     "text": [
      "Epoch 1, Loss: 0.6764\n",
      "Epoch 2, Loss: 0.6763\n",
      "Epoch 3, Loss: 0.6762\n",
      "Epoch 4, Loss: 0.6760\n",
      "Epoch 5, Loss: 0.6759\n",
      "Epoch 6, Loss: 0.6757\n",
      "Epoch 7, Loss: 0.6756\n",
      "Epoch 8, Loss: 0.6755\n",
      "Epoch 9, Loss: 0.6754\n",
      "Epoch 10, Loss: 0.6752\n",
      "Epoch 11, Loss: 0.6751\n",
      "Epoch 12, Loss: 0.6750\n",
      "Epoch 13, Loss: 0.6748\n",
      "Epoch 14, Loss: 0.6747\n",
      "Epoch 15, Loss: 0.6746\n",
      "Epoch 16, Loss: 0.6745\n",
      "Epoch 17, Loss: 0.6744\n",
      "Epoch 18, Loss: 0.6742\n",
      "Epoch 19, Loss: 0.6741\n",
      "Epoch 20, Loss: 0.6740\n",
      "Epoch 21, Loss: 0.6739\n",
      "Epoch 22, Loss: 0.6738\n",
      "Epoch 23, Loss: 0.6737\n",
      "Epoch 24, Loss: 0.6736\n",
      "Epoch 25, Loss: 0.6735\n",
      "Epoch 26, Loss: 0.6733\n",
      "Epoch 27, Loss: 0.6733\n",
      "Epoch 28, Loss: 0.6732\n",
      "Epoch 29, Loss: 0.6730\n",
      "Epoch 30, Loss: 0.6730\n",
      "Epoch 31, Loss: 0.6728\n",
      "Epoch 32, Loss: 0.6728\n",
      "Epoch 33, Loss: 0.6726\n",
      "Epoch 34, Loss: 0.6725\n",
      "Epoch 35, Loss: 0.6724\n",
      "Epoch 36, Loss: 0.6723\n",
      "Epoch 37, Loss: 0.6722\n",
      "Epoch 38, Loss: 0.6721\n",
      "Epoch 39, Loss: 0.6720\n",
      "Epoch 40, Loss: 0.6719\n",
      "Epoch 41, Loss: 0.6718\n",
      "Epoch 42, Loss: 0.6717\n",
      "Epoch 43, Loss: 0.6716\n",
      "Epoch 44, Loss: 0.6715\n",
      "Epoch 45, Loss: 0.6714\n",
      "Epoch 46, Loss: 0.6713\n",
      "Epoch 47, Loss: 0.6712\n",
      "Epoch 48, Loss: 0.6711\n",
      "Epoch 49, Loss: 0.6710\n",
      "Epoch 50, Loss: 0.6709\n",
      "Epoch 51, Loss: 0.6708\n",
      "Epoch 52, Loss: 0.6708\n",
      "Epoch 53, Loss: 0.6707\n",
      "Epoch 54, Loss: 0.6705\n",
      "Epoch 55, Loss: 0.6705\n",
      "Epoch 56, Loss: 0.6704\n",
      "Epoch 57, Loss: 0.6703\n",
      "Epoch 58, Loss: 0.6702\n",
      "Epoch 59, Loss: 0.6701\n",
      "Epoch 60, Loss: 0.6701\n",
      "Epoch 61, Loss: 0.6700\n",
      "Epoch 62, Loss: 0.6699\n",
      "Epoch 63, Loss: 0.6698\n",
      "Epoch 64, Loss: 0.6698\n",
      "Epoch 65, Loss: 0.6696\n",
      "Epoch 66, Loss: 0.6696\n",
      "Epoch 67, Loss: 0.6695\n",
      "Epoch 68, Loss: 0.6695\n",
      "Epoch 69, Loss: 0.6693\n",
      "Epoch 70, Loss: 0.6693\n",
      "Epoch 71, Loss: 0.6692\n",
      "Epoch 72, Loss: 0.6692\n",
      "Epoch 73, Loss: 0.6690\n",
      "Epoch 74, Loss: 0.6690\n",
      "Epoch 75, Loss: 0.6689\n",
      "Epoch 76, Loss: 0.6689\n",
      "Epoch 77, Loss: 0.6688\n",
      "Epoch 78, Loss: 0.6687\n",
      "Epoch 79, Loss: 0.6686\n",
      "Epoch 80, Loss: 0.6686\n",
      "Epoch 81, Loss: 0.6685\n",
      "Epoch 82, Loss: 0.6684\n",
      "Epoch 83, Loss: 0.6684\n",
      "Epoch 84, Loss: 0.6683\n",
      "Epoch 85, Loss: 0.6683\n",
      "Epoch 86, Loss: 0.6682\n",
      "Epoch 87, Loss: 0.6682\n",
      "Epoch 88, Loss: 0.6681\n",
      "Epoch 89, Loss: 0.6680\n",
      "Epoch 90, Loss: 0.6680\n",
      "Epoch 91, Loss: 0.6679\n",
      "Epoch 92, Loss: 0.6678\n",
      "Epoch 93, Loss: 0.6678\n",
      "Epoch 94, Loss: 0.6677\n",
      "Epoch 95, Loss: 0.6677\n",
      "Epoch 96, Loss: 0.6676\n",
      "Epoch 97, Loss: 0.6676\n",
      "Epoch 98, Loss: 0.6675\n",
      "Epoch 99, Loss: 0.6674\n",
      "Epoch 100, Loss: 0.6674\n"
     ]
    }
   ],
   "source": [
    "losses = []\n",
    "for epoch in range(100):\n",
    "    ep_loss = []\n",
    "    for batch, (X, y) in enumerate(dataloader):\n",
    "        # Forward pass\n",
    "        logits = model(X)\n",
    "        loss = loss_fn(logits, y)\n",
    "\n",
    "        # Backward pass\n",
    "        optimizer.zero_grad()\n",
    "        loss.backward()\n",
    "        optimizer.step()\n",
    "        ep_loss.append(loss.item())\n",
    "\n",
    "    losses.append(np.mean(ep_loss))\n",
    "    print(f\"Epoch {epoch+1}, Loss: {np.mean(ep_loss):.4f}\")"
   ]
  },
  {
   "cell_type": "code",
   "execution_count": 42,
   "metadata": {},
   "outputs": [
    {
     "data": {
      "image/png": "[encoded data removed]",
      "text/plain": [
       "<Figure size 1000x600 with 1 Axes>"
      ]
     },
     "metadata": {},
     "output_type": "display_data"
    }
   ],
   "source": [
    "plt.figure(figsize=(10, 6))\n",
    "plt.title(\"Loss durante il Training\")\n",
    "plt.grid(True)\n",
    "plt.xlabel(\"Epoch\")\n",
    "plt.ylabel(\"Loss\")\n",
    "plt.plot(losses)\n",
    "plt.show()"
   ]
  },
  {
   "cell_type": "markdown",
   "metadata": {},
   "source": [
    "# 4. Pytorch on steroids"
   ]
  },
  {
   "cell_type": "markdown",
   "metadata": {},
   "source": [
    "Ora che abbiamo capito come funziona il loop di training, possiamo semplificare ulteriormente il processo con [Pytorch Lightning](https://lightning.ai/docs/pytorch/stable/starter/introduction.html)"
   ]
  },
  {
   "cell_type": "code",
   "execution_count": null,
   "metadata": {},
   "outputs": [],
   "source": [
    "!uv add lightning"
   ]
  },
  {
   "cell_type": "code",
   "execution_count": 50,
   "metadata": {},
   "outputs": [],
   "source": [
    "import lightning as L\n",
    "from lightning.pytorch.loggers import WandbLogger"
   ]
  },
  {
   "cell_type": "markdown",
   "metadata": {},
   "source": [
    "### Lightining maschera (quasi) tutto il processo di training, l'utente deve solo fornire lo scheletro del neural network,  definire il flusso dei dati all'interno del neural network, la funzione di loss e l'ottimizzatore  "
   ]
  },
  {
   "cell_type": "code",
   "execution_count": null,
   "metadata": {},
   "outputs": [],
   "source": [
    "class LitNN(L.LightningModule):\n",
    "    def __init__(self):\n",
    "        super().__init__()\n",
    "        self.model = NeuralNetwork()\n",
    "        self.loss_fn = nn.BCEWithLogitsLoss()\n",
    "        \n",
    "        self.save_hyperparameters()\n",
    "\n",
    "    def forward(self, x):\n",
    "        return self.model(x)\n",
    "\n",
    "    def training_step(self, batch, batch_idx):\n",
    "        X, y = batch\n",
    "        logits = self(X)\n",
    "        loss = self.loss_fn(logits, y)\n",
    "        self.log(\"train_loss\", loss)\n",
    "        return loss\n",
    "\n",
    "    def configure_optimizers(self):\n",
    "        return Adam(self.parameters(), lr=0.001)"
   ]
  },
  {
   "cell_type": "markdown",
   "metadata": {},
   "source": [
    "Si definisce il Trainer per fare il fitting del modello sui dati"
   ]
  },
  {
   "cell_type": "code",
   "execution_count": null,
   "metadata": {},
   "outputs": [
    {
     "name": "stderr",
     "output_type": "stream",
     "text": [
      "💡 Tip: For seamless cloud uploads and versioning, try installing [litmodels](https://pypi.org/project/litmodels/) to enable LitModelCheckpoint, which syncs automatically with the Lightning model registry.\n",
      "GPU available: True (cuda), used: True\n",
      "TPU available: False, using: 0 TPU cores\n",
      "HPU available: False, using: 0 HPUs\n",
      "LOCAL_RANK: 0 - CUDA_VISIBLE_DEVICES: [0,1,2,3,4,5]\n",
      "\n",
      "  | Name    | Type              | Params | Mode \n",
      "------------------------------------------------------\n",
      "0 | model   | NeuralNetwork     | 161    | train\n",
      "1 | loss_fn | BCEWithLogitsLoss | 0      | train\n",
      "------------------------------------------------------\n",
      "161       Trainable params\n",
      "0         Non-trainable params\n",
      "161       Total params\n",
      "0.001     Total estimated model params size (MB)\n",
      "7         Modules in train mode\n",
      "0         Modules in eval mode\n"
     ]
    },
    {
     "name": "stdout",
     "output_type": "stream",
     "text": [
      "Epoch 99: 100%|██████████| 32/32 [00:00<00:00, 323.07it/s, v_num=1]"
     ]
    },
    {
     "name": "stderr",
     "output_type": "stream",
     "text": [
      "`Trainer.fit` stopped: `max_epochs=100` reached.\n"
     ]
    },
    {
     "name": "stdout",
     "output_type": "stream",
     "text": [
      "Epoch 99: 100%|██████████| 32/32 [00:00<00:00, 314.48it/s, v_num=1]\n"
     ]
    }
   ],
   "source": [
    "litmodel = LitNN()\n",
    "trainer = L.Trainer(\n",
    "    accelerator=\"gpu\", # \"cpu\", \"tpu\", \"hpu\", \"auto\",\n",
    "    devices=1, # [1, 2] per specificare quale GPU usare\n",
    "    max_epochs=100,\n",
    "    # default_root_dir=\"some/path/\",\n",
    "    # strategy=\"ddp\", # per il training distribuito\n",
    "    # accumulate_grad_batches=1, # per gradient accumulation su batches\n",
    "    # deterministic=False, # per riproducibilità\n",
    "    # gradient_clip_val=None, # o un float per il clipping, per evitare exploding gradients\n",
    "    # precision=\"16-mixed\", # per la precisione dei calcoli\n",
    "    # profiler=\"simple\", # \"advanced\", \"pytorch\", or a custom profiler\n",
    "    # enable_progress_bar=True,\n",
    "    # val_check_interval=1, # per validazione ogni n epoch (se float) o n batches (se int)\n",
    "    # logger=WandbLogger(project=\"lightning-intro\"),\n",
    "    # callbacks=[\n",
    "        # L.callbacks.ModelCheckpoint(monitor=\"train_loss\"),\n",
    "        # L.callbacks.LearningRateMonitor(logging_interval=\"step\"),\n",
    "        # L.callbacks.EarlyStopping(monitor=\"train_loss\", patience=5),\n",
    "        # L.callbacks.RichProgressBar(),],\n",
    "    # altri tanti parametri...\n",
    "    )\n",
    "\n",
    "trainer.fit(\n",
    "    model = litmodel,\n",
    "    train_dataloaders=dataloader,\n",
    "    # val_dataloaders=None,\n",
    "    # ckpt_path=\"some/path/\", # per riprendere il training da un checkpoint\n",
    ")"
   ]
  },
  {
   "cell_type": "markdown",
   "metadata": {},
   "source": [
    "## Perche' usare Lightning?\n",
    "\n",
    "I vantaggi che offre Lightning sono molteplici\n",
    "- Struttura del codice più pulita e modulare\n",
    "- Gestione automatica di device e precisione di training\n",
    "- Facile gestione di checkpointing, logging e resume di training\n",
    "- Scalabilita', riproducibilita', e integrazione di metodi come \n",
    "    - early stopping,\n",
    "    - scheduling di learning rate,\n",
    "    - gradient clipping,\n",
    "    - profiler per le prestazioni"
   ]
  },
  {
   "cell_type": "markdown",
   "metadata": {},
   "source": [
    "## e i svantaggi?\n",
    "- una curva di apprendimento iniziale\n",
    "- debug e' piu\\ complicato\n",
    "- meno controllo su finezze\n",
    "- alcune astrazioni non facili da capire\n",
    "- aggiornamenti dirompenti..."
   ]
  },
  {
   "cell_type": "markdown",
   "metadata": {},
   "source": [
    "# Come fare un grid search efficiente?"
   ]
  },
  {
   "cell_type": "markdown",
   "metadata": {},
   "source": [
    "Ray offre una potente scalabilita' di training quando si ha tante risorse computazionali (e.g. cluster, multi-gpu) \n",
    "\n",
    "Lightning e Ray sono compatibili per essere usati assieme"
   ]
  },
  {
   "cell_type": "markdown",
   "metadata": {},
   "source": [
    "In particolare vedremo Ray Tune, per ottimizzare il processo di selezione di iper parametri"
   ]
  },
  {
   "cell_type": "code",
   "execution_count": null,
   "metadata": {},
   "outputs": [],
   "source": [
    "!uv add ray[tune]"
   ]
  },
  {
   "cell_type": "markdown",
   "metadata": {},
   "source": [
    "Ray Tune puo' essere utilizzato per allenare direttamente i modelli di scritti su Pytorch, ma delle volte puo' essere molto difficile gestire allocazioni di dati che se sono su device diversi, puo' risultare molto impegantivo fare il debugging."
   ]
  },
  {
   "cell_type": "markdown",
   "metadata": {},
   "source": [
    "Quindi, qui l'obiettivo e' integrare in modo facile la ricerca di iper parametri con una backbone pronta per essere allenata."
   ]
  },
  {
   "cell_type": "markdown",
   "metadata": {},
   "source": [
    "### N.B. assicurarsi che il trainer di Lightning funziona e produce risultati sensati, altrimenti fare il debugging con Ray e' assurdo."
   ]
  },
  {
   "cell_type": "markdown",
   "metadata": {},
   "source": [
    "Per fare il grid search, dobbiamo decidere quali sono gli iper parametri da cercare\n",
    "\n",
    "Ridefiniamo un attimo il modello di lightning per essere piu' flessibili"
   ]
  },
  {
   "cell_type": "code",
   "execution_count": null,
   "metadata": {},
   "outputs": [],
   "source": [
    "class ConfigurableLitNN(L.LightningModule):\n",
    "    def __init__(self, learning_rate=0.001, optimizer='Adam'):\n",
    "        super().__init__()\n",
    "        self.model = NeuralNetwork()\n",
    "        \n",
    "        self.loss_fn = nn.BCEWithLogitsLoss()\n",
    "        self.learning_rate = learning_rate\n",
    "        self.optimizer = optimizer\n",
    "        \n",
    "        self.save_hyperparameters()\n",
    "        \n",
    "    def forward(self, x):\n",
    "        return self.model(x)\n",
    "\n",
    "    def training_step(self, batch, batch_idx):\n",
    "        X, y = batch\n",
    "        logits = self(X)\n",
    "        loss = self.loss_fn(logits, y)\n",
    "        self.log(\"train_loss\", loss)\n",
    "        return loss\n",
    "\n",
    "    def configure_optimizers(self):\n",
    "        if self.optimizer == 'Adam':\n",
    "            return Adam(self.parameters(), lr=self.learning_rate)\n",
    "        elif self.optimizer == 'SGD':\n",
    "            return SGD(self.parameters(), lr=self.learning_rate)\n",
    "        elif self.optimizer == 'RMSprop':\n",
    "            return RMSprop(self.parameters(), lr=self.learning_rate)\n",
    "        else:\n",
    "            raise ValueError(f\"Optimizer {self.optimizer} not supported.\")"
   ]
  },
  {
   "cell_type": "markdown",
   "metadata": {},
   "source": [
    "definiamo lo spazio di ricerca"
   ]
  },
  {
   "cell_type": "code",
   "execution_count": null,
   "metadata": {},
   "outputs": [],
   "source": [
    "config = {\n",
    "    \"learning_rate\": tune.loguniform(1e-4, 1e-1),\n",
    "    \"optimizer\": tune.choice(['Adam', 'SGD', 'RMSprop']),\n",
    "}"
   ]
  },
  {
   "cell_type": "markdown",
   "metadata": {},
   "source": [
    "la funzione obiettivo"
   ]
  },
  {
   "cell_type": "code",
   "execution_count": null,
   "metadata": {},
   "outputs": [],
   "source": [
    "def objective(config):\n",
    "    model = ConfigurableLitNN(\n",
    "        learning_rate=config[\"learning_rate\"],\n",
    "        optimizer=config[\"optimizer\"],\n",
    "    )\n",
    "    trainer = L.Trainer(\n",
    "        accelerator=\"gpu\",\n",
    "        devices=1,\n",
    "        max_epochs=10,\n",
    "        enable_progress_bar=False,\n",
    "    )\n",
    "    trainer.fit(\n",
    "        model=model,\n",
    "        train_dataloaders=dataloader,\n",
    "    )\n",
    "    tune.report(train_loss=trainer.callback_metrics[\"train_loss\"].item())\n",
    "    return"
   ]
  },
  {
   "cell_type": "markdown",
   "metadata": {},
   "source": [
    "definiamo l'algoritmo di ricerca"
   ]
  },
  {
   "cell_type": "code",
   "execution_count": null,
   "metadata": {},
   "outputs": [],
   "source": [
    "from ray.tune.search.optuna import OptunaSearch\n",
    "\n",
    "search_alg = OptunaSearch(\n",
    "    metric=\"train_loss\",\n",
    "    mode=\"min\",\n",
    ")\n"
   ]
  },
  {
   "cell_type": "code",
   "execution_count": null,
   "metadata": {},
   "outputs": [],
   "source": [
    "tuner = tune.Tuner(\n",
    "    objective,\n",
    "    tune_config=tune.TuneConfig(\n",
    "        num_samples=10,\n",
    "        search_alg=search_alg,\n",
    "    ),\n",
    "    param_space=config,\n",
    ")\n",
    "results = tuner.fit()\n",
    "print(\"Miglior risultato:\", results.get_best_result(\"train_loss\", \"min\"))"
   ]
  },
  {
   "cell_type": "markdown",
   "metadata": {},
   "source": [
    "Ci sono un po' di problemi con Ray\n",
    "\n",
    "- salva troppi dati temporanei per poter ripendere la training (nello swap)\n",
    "- (quasi) impossibile fare debugging\n",
    "- crea un workspace temporaneo per la computazione distribuita, quindi path relativi si rompono facilmente"
   ]
  }
 ],
 "metadata": {
  "kernelspec": {
   "display_name": ".venv",
   "language": "python",
   "name": "python3"
  },
  "language_info": {
   "codemirror_mode": {
    "name": "ipython",
    "version": 3
   },
   "file_extension": ".py",
   "mimetype": "text/x-python",
   "name": "python",
   "nbconvert_exporter": "python",
   "pygments_lexer": "ipython3",
   "version": "3.12.3"
  }
 },
 "nbformat": 4,
 "nbformat_minor": 2
}
